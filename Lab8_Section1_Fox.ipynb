{
 "cells": [
  {
   "cell_type": "markdown",
   "metadata": {},
   "source": [
    "# Lab 8: PageRank"
   ]
  },
  {
   "cell_type": "markdown",
   "metadata": {},
   "source": [
    "In this assignment, we will learn how to compute the importance score of nodes in a graph by using the PageRank method."
   ]
  },
  {
   "cell_type": "markdown",
   "metadata": {},
   "source": [
    "## Generate a graph\n",
    "\n",
    "Here, we use [NetworkX](https://networkx.org/) to generate a directed graph. Then, we will apply PageRank method to this graph. "
   ]
  },
  {
   "cell_type": "code",
   "execution_count": 3,
   "metadata": {},
   "outputs": [
    {
     "data": {
      "image/png": "[encoded data removed]",
      "text/plain": [
       "<Figure size 432x288 with 1 Axes>"
      ]
     },
     "metadata": {},
     "output_type": "display_data"
    },
    {
     "name": "stdout",
     "output_type": "stream",
     "text": [
      "#nodes: 6, #edges: 14\n",
      "node-0, #in_degrees 1, #out_degrees 1\n",
      "node-1, #in_degrees 4, #out_degrees 3\n",
      "node-2, #in_degrees 3, #out_degrees 3\n",
      "node-3, #in_degrees 2, #out_degrees 3\n",
      "node-4, #in_degrees 2, #out_degrees 4\n",
      "node-5, #in_degrees 2, #out_degrees 0\n",
      "[[0 1 0 0 0 0]\n",
      " [0 0 1 1 0 1]\n",
      " [1 1 0 0 1 0]\n",
      " [0 1 1 0 1 0]\n",
      " [0 1 1 1 0 1]\n",
      " [0 0 0 0 0 0]]\n"
     ]
    }
   ],
   "source": [
    "import networkx as nx\n",
    "import numpy as np\n",
    "import matplotlib.pyplot as plt\n",
    "\n",
    "\n",
    "# generate a directed graph from the given adjacency matrix\n",
    "A = np.array([[0, 1, 0, 0, 0, 0],\n",
    "             [0, 0, 1, 1, 0, 1],\n",
    "             [1, 1, 0, 0, 1, 0],\n",
    "             [0, 1, 1, 0, 1, 0],\n",
    "             [0, 1, 1, 1, 0, 1],\n",
    "             [0, 0, 0, 0, 0, 0]])\n",
    "\n",
    "G = nx.from_numpy_matrix(A, create_using=nx.DiGraph)\n",
    "\n",
    "nx.draw(G, with_labels=True, font_weight='bold')\n",
    "plt.show()\n",
    "\n",
    "print('#nodes: {}, #edges: {}'.format(G.number_of_nodes(), G.number_of_edges()))\n",
    "\n",
    "# output the in_degrees and out_degrees of each node\n",
    "for idx in range(G.number_of_nodes()):\n",
    "    print('node-{}, #in_degrees {}, #out_degrees {}'.format(idx, G.in_degree(idx), G.out_degree(idx)))\n",
    "\n",
    "# get the adjacency matrix of graph G\n",
    "Adj = nx.adjacency_matrix(G).todense()\n",
    "print(Adj)"
   ]
  },
  {
   "cell_type": "markdown",
   "metadata": {},
   "source": [
    "## Task 1. Build the transition matrix from the adjacency matrix"
   ]
  },
  {
   "cell_type": "code",
   "execution_count": 24,
   "metadata": {},
   "outputs": [
    {
     "name": "stdout",
     "output_type": "stream",
     "text": [
      "[[0.         0.25       0.         0.         0.         0.        ]\n",
      " [0.         0.         0.33333333 0.5        0.         0.5       ]\n",
      " [1.         0.25       0.         0.         0.5        0.        ]\n",
      " [0.         0.25       0.33333333 0.         0.5        0.        ]\n",
      " [0.         0.25       0.33333333 0.5        0.         0.5       ]\n",
      " [0.         0.         0.         0.         0.         0.        ]]\n"
     ]
    }
   ],
   "source": [
    "M = Adj/Adj.sum(axis=0)\n",
    "print(M)"
   ]
  },
  {
   "cell_type": "markdown",
   "metadata": {},
   "source": [
    "## Task 2. Use the power iteration method to compute the importance score of nodes\n",
    "\n",
    "\n",
    "* Initialization: initialize the importance score vector $r_{0}=[1/6, 1/6, 1/6, 1/6, 1/6, 1/6]$.\n",
    "* Iterate: $r_{t+1} =  M r_{t}$\n",
    "* Stop when $\\|r_{t+1} - r_{t}\\|_1\\leq \\epsilon$\n"
   ]
  },
  {
   "cell_type": "code",
   "execution_count": 51,
   "metadata": {},
   "outputs": [
    {
     "name": "stdout",
     "output_type": "stream",
     "text": [
      "[[0.0546875 ]\n",
      " [0.19704861]\n",
      " [0.234375  ]\n",
      " [0.26215278]\n",
      " [0.25173611]\n",
      " [0.        ]]\n"
     ]
    }
   ],
   "source": [
    "r0 = np.array([[1/6, 1/6, 1/6, 1/6, 1/6, 1/6]]).T\n",
    "r1 = M*r0\n",
    "r2 = M*r1\n",
    "r3 = M*r2\n",
    "r4 = M*r3\n",
    "print(r4)"
   ]
  },
  {
   "cell_type": "markdown",
   "metadata": {},
   "source": [
    "## Task 3. In the given graph, are there any dead ends?\n",
    "\n",
    "If there are some dead ends in the given graph, please use the Random Teleports method to re-compute the importance score. In particular, please construct a new transition matrix as follows,\n",
    "\n",
    "$$G = \\beta M + (1-\\beta)[\\frac{1}{6}]_{6\\times 6}$$\n",
    "\n",
    "Here, $0<\\beta<1$. Apply the power iteration method to $G$. Compare the obtained importance score with that obtained in Task 2. "
   ]
  },
  {
   "cell_type": "code",
   "execution_count": 50,
   "metadata": {},
   "outputs": [
    {
     "name": "stdout",
     "output_type": "stream",
     "text": [
      "Node 5 is a dead end\n",
      "[[0.01666667 0.24166667 0.01666667 0.01666667 0.01666667 0.01666667]\n",
      " [0.01666667 0.01666667 0.31666667 0.46666667 0.01666667 0.46666667]\n",
      " [0.91666667 0.24166667 0.01666667 0.01666667 0.46666667 0.01666667]\n",
      " [0.01666667 0.24166667 0.31666667 0.01666667 0.46666667 0.01666667]\n",
      " [0.01666667 0.24166667 0.31666667 0.46666667 0.01666667 0.46666667]\n",
      " [0.01666667 0.01666667 0.01666667 0.01666667 0.01666667 0.01666667]]\n",
      "\n",
      "\n",
      "[[0.06421432]\n",
      " [0.19708464]\n",
      " [0.23157917]\n",
      " [0.24582292]\n",
      " [0.24463229]\n",
      " [0.01666667]]\n"
     ]
    }
   ],
   "source": [
    "print('Node 5 is a dead end')\n",
    "B = .9\n",
    "\n",
    "random_teleport_M = B*M + (1-B)*np.full((6, 6), 1/6)\n",
    "print(random_teleport_M)\n",
    "print('\\n')\n",
    "\n",
    "r0 = np.array([[1/6, 1/6, 1/6, 1/6, 1/6, 1/6]]).T\n",
    "r1 = random_teleport_M*r0\n",
    "r2 = random_teleport_M*r1\n",
    "r3 = random_teleport_M*r2\n",
    "r4 = random_teleport_M*r3\n",
    "print(r4)"
   ]
  },
  {
   "cell_type": "markdown",
   "metadata": {},
   "source": [
    "The importance score in task 2 is not that different from the new one. Nodes with a higher score are slightly lower now, and nodes with a low score are slightly higher now. Node 5 now has a non-zero importance score but it is very small"
   ]
  }
 ],
 "metadata": {
  "kernelspec": {
   "display_name": "Python 3",
   "language": "python",
   "name": "python3"
  },
  "language_info": {
   "codemirror_mode": {
    "name": "ipython",
    "version": 3
   },
   "file_extension": ".py",
   "mimetype": "text/x-python",
   "name": "python",
   "nbconvert_exporter": "python",
   "pygments_lexer": "ipython3",
   "version": "3.8.5"
  }
 },
 "nbformat": 4,
 "nbformat_minor": 2
}
